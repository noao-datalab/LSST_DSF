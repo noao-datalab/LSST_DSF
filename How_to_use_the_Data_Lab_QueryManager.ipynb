{
 "cells": [
  {
   "cell_type": "markdown",
   "metadata": {
    "deletable": true,
    "editable": true
   },
   "source": [
    "## How to use the Data Lab *Query Manager* Service\n",
    "\n",
    "*Revised: April 27, 2017*\n",
    "\n",
    "This notebook documents how to query the Data Lab via the query manager service. This can be done either from a Python script or from the command line using the <i>datalab</i> command.\n",
    "\n",
    "### The query manager service interface\n",
    "\n",
    "The query manager service simplifies access to the Data Lab databases. This section describes the query manager service interface in case we want to write our own code against that rather than using one of the provided tools.\n",
    "The query manager service accepts an HTTP GET call to the <i>query</i> endpoint with the following parameters:\n",
    "\n",
    "| Name | Function | Optional | Supported values |\n",
    "|------|----------|----------|------------------|\n",
    "| adql | The query string to run against the db | No | - |\n",
    "| out | The location to save any results | Yes | 'vos://...', 'mydb://...' |\n",
    "| ofmt | The output format of any results | Yes | ascii, csv, votable |\n",
    "| async | Run the query asynchronously | Yes | true/false |\n",
    "| profile | The server profile to use | Yes | default |\n",
    "\n",
    "For example: /query?adql=<query>&ofmt=csv\n",
    "\n",
    "#### Saving results\n",
    "If no save location is specified (no <i>out</i> param) then the results are returned directly. A save location beginning with the 'vos://' identifier indicates a location in the user's virtual storage to save the result. A save location beginning with the 'mydb://' identifier indicates the results are to be saved to a table in the user's remote database (MyDB). \n",
    "\n",
    "#### Output formats\n",
    "The results can be returned as whitespace delimited (<i>ascii</i>), CSV (<i>csv</i>), or in VOTable format (<i>votable</i>). Note that if the results are saved to the user's database then the output format is ignored.\n",
    "\n",
    "#### Asynchronous queries\n",
    "Long queries should be run asynchronously and the service may refuse any synchronous query attempted if the projected query time is too long. A query can be submitted asynchronously by setting the <i>async</i> parameter to <i>true</i>. A job id will then be returned.\n",
    "\n",
    "The status of an asynchronous query can be checked by submitting an HTTP GET call to the query manager service <i>status</i> endpoint with the relevant job id as an argument: /status?jobid=<jobid>. A return value of 'COMPLETED' indicates the query has terminated. A return value of 'ERROR' indicates that there was a problem with the query.\n",
    "\n",
    "The results of an asynchronous query (assuming that they were not saved to either the user's virtual storage or remote database) can be retrieved once the query has completed with an HTTP GET call to the query manager service <i>results</i> endpoint with the relevant job id as argument: /results?jobid=<jobid>\n",
    "\n",
    "#### Authentication\n",
    "The query manager service requires a Data Lab security token. This needs to be passed as the value of the header keyword \"X-DL-AuthToken\" in any HTTP GET call to the service. \n",
    "\n",
    "#### Profiles\n",
    "There are several different backend machines serving data, etc., and it is possible that a user might want to specify a particular set to run their query on and save results to. A <i>profile</i> defines such a set and a particular profile can be specified in a query call."
   ]
  },
  {
   "cell_type": "markdown",
   "metadata": {
    "deletable": true,
    "editable": true
   },
   "source": [
    "### From Python code\n",
    "\n",
    "The query manager service can be called from Python code using the <i>datalab</i> module. This provides methods to access the various query manager functions in the <i>queryMgr</i> subpackage. \n",
    "\n",
    "#### Initialization\n",
    "This is the setup that is required to use the query manager. The first thing to do is import the relevant Python modules and also retrieve our DataLab security token (remember that this has to be included in any call to the query manager service)."
   ]
  },
  {
   "cell_type": "code",
   "execution_count": 23,
   "metadata": {
    "collapsed": false,
    "deletable": true,
    "editable": true
   },
   "outputs": [
    {
     "name": "stdout",
     "output_type": "stream",
     "text": [
      "Login token:   demo00.1018.1018.$1$sV492pfI$fmiln0rCdA1LraTYicQu2.\n"
     ]
    }
   ],
   "source": [
    "from dl import authClient, queryClient, storeClient\n",
    "\n",
    "# Get the security token for the datalab user\n",
    "token = authClient.login ('demo00','balatad')\n",
    "if not authClient.isValidToken (token):\n",
    "    print 'Error: invalid user login (%s)' % token\n",
    "else:\n",
    "    print \"Login token:   %s\" % token"
   ]
  },
  {
   "cell_type": "markdown",
   "metadata": {
    "deletable": true,
    "editable": true
   },
   "source": [
    "#### The *queryClient* class\n",
    "\n",
    "All queries are executed through the <i>query()</i> method of the <i>queryClient</i> class. This takes as arguments:\n",
    "\n",
    "| Argument | Description | Default  value | Allowed Values |\n",
    "|----------|-------------|----------------|----------------|\n",
    "| token | The login identity token | None | any valid token |\n",
    "| adql | The query to be submitted to the TAP service | None | |\n",
    "| sql | The query to be submitted to the DB directly | None | |\n",
    "| fmt | The requested format (if any) | ascii | ascii,csv,votable,fits |\n",
    "| out | The saved location (if any) | None | local filename, *vos://filename*, *mydb://tablename* |\n",
    "| async | Indicates if the query is asynchronous | False | |\n",
    "| profile | Indicates which backend machines to use | default |  |\n",
    "\n",
    "All arguments are optional except for the *token* parameter, and one of *adql* or *sql* must be supplied.  The distinction between these two parameters is in how the *QueryManager* executes the query:  If *adql* is provided the query is sent to the TAP (Table Access Protocol) service, if *sql* is provided the query is sent directly to the database.  The choice of execution depends on whether the query string contains ADQL-specific functions, or SQL constructs or DB extensions not understood by the TAP service.  For large queries there can also be a performance difference depending on the where/how the results are saved. Note that if a *profile* is not specified then the default profile is assumed."
   ]
  },
  {
   "cell_type": "markdown",
   "metadata": {
    "deletable": true,
    "editable": true
   },
   "source": [
    "#### A quick query\n",
    "\n",
    "Let's say we want to return the $gri$ magnitudes of the top 10 objects in the SMASH dataset and get it back as a CSV file:"
   ]
  },
  {
   "cell_type": "code",
   "execution_count": 13,
   "metadata": {
    "collapsed": false,
    "deletable": true,
    "editable": true
   },
   "outputs": [
    {
     "name": "stdout",
     "output_type": "stream",
     "text": [
      "id,gmag,rmag,imag\n",
      "153.1633022,22.141075,99.989998,99.989998\n",
      "153.1633023,21.493074,99.989998,99.989998\n",
      "153.1632994,22.169075,99.989998,99.989998\n",
      "153.1751465,99.989998,99.989998,99.989998\n",
      "153.1751475,99.989998,99.989998,99.989998\n",
      "153.1751438,99.989998,99.989998,99.989998\n",
      "153.1632972,19.639074,99.989998,99.989998\n",
      "153.1751452,99.989998,99.989998,99.989998\n",
      "153.1751414,99.989998,99.989998,99.989998\n",
      "153.1632943,18.752075,99.989998,99.989998\n",
      "\n"
     ]
    }
   ],
   "source": [
    "query = 'select id,gmag,rmag,imag from smash_dr1.object limit 10'\n",
    "response = queryClient.query(token, adql = query, fmt = 'csv')\n",
    "\n",
    "print response"
   ]
  },
  {
   "cell_type": "markdown",
   "metadata": {
    "deletable": true,
    "editable": true
   },
   "source": [
    "#### Saving results to virtual storage\n",
    "\n",
    "Now we want to save the results from the same query to our virtual storage space instead.  By putting the query in a try-block we are able to trap errors when executing the query.  Note that running this cell multiple times will trigger an error and we use the Storage Manager client to remove the file once we are done."
   ]
  },
  {
   "cell_type": "code",
   "execution_count": 25,
   "metadata": {
    "collapsed": false,
    "deletable": true,
    "editable": true
   },
   "outputs": [
    {
     "name": "stdout",
     "output_type": "stream",
     "text": [
      "OK\n"
     ]
    },
    {
     "data": {
      "text/plain": [
       "<Response [204]>"
      ]
     },
     "execution_count": 25,
     "metadata": {},
     "output_type": "execute_result"
    }
   ],
   "source": [
    "try:\n",
    "    response = queryClient.query (token, adql=query, fmt='csv', \n",
    "                                  out='vos://mags.csv')\n",
    "except Exception as e:\n",
    "    # Handle any errors in the query.  By running this cell multiple times with the same\n",
    "    # output file, or by using a bogus SQL statement, you can view various error messages.\n",
    "    print e.message\n",
    "else:\n",
    "    if response is not None: \n",
    "        print response           # print the response\n",
    "    else:\n",
    "        print \"OK\"\n",
    "\n",
    "# Remove the file we just created, but list it first to show it exists\n",
    "storeClient.ls (token, name='vos://mags.csv')\n",
    "storeClient.rm (token, name='vos://mags.csv')"
   ]
  },
  {
   "cell_type": "markdown",
   "metadata": {
    "deletable": true,
    "editable": true
   },
   "source": [
    "#### Saving results to remote database\n",
    "\n",
    "Alternatively we may want to store the results in a table called <i>mags</i> in our remote database."
   ]
  },
  {
   "cell_type": "code",
   "execution_count": 29,
   "metadata": {
    "collapsed": false,
    "deletable": true,
    "editable": true
   },
   "outputs": [
    {
     "name": "stdout",
     "output_type": "stream",
     "text": [
      "http://dlsvcs.datalab.noao.edu/query/list?table=mydb://mags3\n",
      "OK\n"
     ]
    }
   ],
   "source": [
    "query = \"select * from usno.b1 limit 1000\"\n",
    "try:\n",
    "    response = queryClient.query (token, adql=query, fmt='csv', \n",
    "                                  out='mydb://mags3')\n",
    "    #queryClient.list (token, table='mydb://mags3')\n",
    "except Exception as e:\n",
    "    # Handle any errors in the query.  By running this cell multiple times with the same\n",
    "    # output file, or by using a bogus SQL statement, you can view various error messages.\n",
    "    print e.message\n",
    "else:\n",
    "    if response is not None: \n",
    "        print response           # print the response\n",
    "    else:\n",
    "        print \"OK\""
   ]
  },
  {
   "cell_type": "markdown",
   "metadata": {
    "deletable": true,
    "editable": true
   },
   "source": [
    "#### An asynchronous query\n",
    "\n",
    "We now want to run a longer query, say, counting the total number of objects is USNO-B1, and need to do it asynchronously. The first thing we do is submit the query as normal but with the <i>async</i> argument indicated - this will return the id of the asynchronous job. All the previous arguments can also be used to specify where and in what format we want the query results."
   ]
  },
  {
   "cell_type": "code",
   "execution_count": 36,
   "metadata": {
    "collapsed": false,
    "deletable": true,
    "editable": true
   },
   "outputs": [
    {
     "name": "stdout",
     "output_type": "stream",
     "text": [
      "zk0sg321xs1fay4q\n"
     ]
    }
   ],
   "source": [
    "query = 'select count(*) from usno.b1'\n",
    "jobId = queryClient.query(token, adql = query, async = True)\n",
    "print jobId"
   ]
  },
  {
   "cell_type": "markdown",
   "metadata": {
    "deletable": true,
    "editable": true
   },
   "source": [
    "We can check on the status of the job at any time:"
   ]
  },
  {
   "cell_type": "code",
   "execution_count": 34,
   "metadata": {
    "collapsed": false,
    "deletable": true,
    "editable": true
   },
   "outputs": [
    {
     "name": "stdout",
     "output_type": "stream",
     "text": [
      "COMPLETED\n"
     ]
    }
   ],
   "source": [
    "status = queryClient.status(token, jobId = jobId)\n",
    "print status"
   ]
  },
  {
   "cell_type": "markdown",
   "metadata": {
    "deletable": true,
    "editable": true
   },
   "source": [
    "If the status value is \"QUEUED\" then the job is waiting to be executed. If\n",
    "it is \"ERROR\" then there was a problem with the execution. When the status value is \"COMPLETED\", we can get our results (assuming we did not save them to our virtual storage or remote database)."
   ]
  },
  {
   "cell_type": "code",
   "execution_count": 35,
   "metadata": {
    "collapsed": false,
    "deletable": true,
    "editable": true
   },
   "outputs": [
    {
     "name": "stdout",
     "output_type": "stream",
     "text": [
      "COUNT\n",
      "1045175762\n",
      "\n"
     ]
    }
   ],
   "source": [
    "results = queryClient.results(token, jobId = jobId)\n",
    "print results"
   ]
  },
  {
   "cell_type": "markdown",
   "metadata": {
    "deletable": true,
    "editable": true
   },
   "source": [
    "#### Using profiles\n",
    "\n",
    "Different data sets (or versions of the same data set) may reside on different backend database servers and a user may want to work explicitly with a particular set. The first thing to do is see what profiles are available."
   ]
  },
  {
   "cell_type": "code",
   "execution_count": 38,
   "metadata": {
    "collapsed": false,
    "deletable": true,
    "editable": true
   },
   "outputs": [
    {
     "name": "stdout",
     "output_type": "stream",
     "text": [
      "default,zeus1,dldb1\n"
     ]
    }
   ],
   "source": [
    "profilelist = queryClient.list_profiles(token)\n",
    "print profilelist"
   ]
  },
  {
   "cell_type": "markdown",
   "metadata": {
    "deletable": true,
    "editable": true
   },
   "source": [
    "We can get the details of a particular profile by including the name of the profile as an argument in the <i>list_profiles</i> method:"
   ]
  },
  {
   "cell_type": "code",
   "execution_count": 39,
   "metadata": {
    "collapsed": false,
    "deletable": true,
    "editable": true
   },
   "outputs": [
    {
     "data": {
      "text/plain": [
       "{u'accessURL': u'http://gp01.datalab.noao.edu:8080/ivoa-dal/tap',\n",
       " u'database': u'tapdb',\n",
       " u'dbport': 5432,\n",
       " u'host': u'gp01.datalab.noao.edu',\n",
       " u'mydb_database': u'mydb',\n",
       " u'password': u'datalab',\n",
       " u'user': u'dlquery',\n",
       " u'vosEndpoint': u'http://dldb1.sdm.noao.edu:8080/vospace-2.0/vospace',\n",
       " u'vosRoot': u'vos://datalab.noao!vospace',\n",
       " u'vosRootDir': u'/data/vospace/users'}"
      ]
     },
     "execution_count": 39,
     "metadata": {},
     "output_type": "execute_result"
    }
   ],
   "source": [
    "queryClient.list_profiles(token, \"default\")"
   ]
  },
  {
   "cell_type": "markdown",
   "metadata": {
    "deletable": true,
    "editable": true
   },
   "source": [
    "So let's try a query against the default profile first - let's get a list of all tables in the default database.  Note that in this case we are accessing the *information_schema* table of the database, this table is not included in the TAP service and so we <b>must</b> use the *sql* argument to talk directly to the database."
   ]
  },
  {
   "cell_type": "code",
   "execution_count": 44,
   "metadata": {
    "collapsed": false,
    "deletable": true,
    "editable": true
   },
   "outputs": [
    {
     "name": "stdout",
     "output_type": "stream",
     "text": [
      "table_catalog,table_schema,table_name\n",
      "tapdb,pg_catalog,pg_statistic\n",
      "tapdb,pg_catalog,pg_type\n",
      "tapdb,mydb,mags_1005\n",
      "tapdb,sdss_dr13,dr12qso\n",
      "tapdb,public,beta_distrib\n",
      "tapdb,smash_dr1,source\n",
      "tapdb,public,d_distrib\n",
      "tapdb,pg_catalog,pg_roles\n",
      "tapdb,pg_catalog,pg_shadow\n",
      "tapdb,pg_catalog,pg_authid\n",
      "tapdb,pg_catalog,pg_group\n",
      "tapdb,pg_catalog,pg_user\n",
      "tapdb,pg_catalog,pg_rules\n",
      "tapdb,pg_catalog,pg_views\n",
      "tapdb,pg_catalog,pg_tables\n",
      "tapdb,pg_catalog,pg_matviews\n",
      "tapdb,pg_catalog,pg_indexes\n",
      "tapdb,pg_catalog,pg_locks\n",
      "tapdb,pg_catalog,pg_settings\n",
      "tapdb,pg_catalog,pg_cursors\n",
      "tapdb,pg_catalog,pg_available_extensions\n",
      "tapdb,pg_catalog,pg_available_extension_versions\n",
      "tapdb,pg_catalog,pg_prepared_xacts\n",
      "tapdb,pg_catalog,pg_prepared_statements\n",
      "tapdb,pg_catalog,pg_seclabels\n",
      "tapdb,pg_catalog,pg_timezone_abbrevs\n",
      "tapdb,pg_catalog,pg_timezone_names\n",
      "tapdb,pg_catalog,pg_stat_all_tables\n",
      "tapdb,pg_catalog,pg_stat_xact_all_tables\n",
      "tapdb,pg_catalog,pg_stat_sys_tables\n",
      "tapdb,pg_catalog,pg_stat_xact_sys_tables\n",
      "tapdb,pg_catalog,pg_stat_user_tables\n",
      "tapdb,pg_catalog,pg_stat_xact_user_tables\n",
      "tapdb,pg_catalog,pg_statio_all_tables\n",
      "tapdb,pg_catalog,pg_statio_sys_tables\n",
      "tapdb,pg_catalog,pg_statio_user_tables\n",
      "tapdb,pg_catalog,pg_stat_all_indexes\n",
      "tapdb,pg_catalog,pg_attribute\n",
      "tapdb,pg_catalog,pg_proc\n",
      "tapdb,pg_catalog,pg_statio_sys_indexes\n",
      "tapdb,pg_catalog,pg_statio_user_indexes\n",
      "tapdb,pg_catalog,pg_class\n",
      "tapdb,pg_catalog,pg_statio_all_sequences\n",
      "tapdb,pg_catalog,pg_statio_sys_sequences\n",
      "tapdb,pg_catalog,pg_statio_user_sequences\n",
      "tapdb,pg_catalog,pg_stat_activity\n",
      "tapdb,pg_catalog,pg_stat_replication\n",
      "tapdb,pg_catalog,pg_stat_database\n",
      "tapdb,pg_catalog,pg_stat_database_conflicts\n",
      "tapdb,pg_catalog,pg_stat_user_functions\n",
      "tapdb,pg_catalog,pg_stat_xact_user_functions\n",
      "tapdb,pg_catalog,pg_stat_bgwriter\n",
      "tapdb,pg_catalog,pg_user_mappings\n",
      "tapdb,pg_catalog,pg_user_mapping\n",
      "tapdb,pg_catalog,pg_constraint\n",
      "tapdb,pg_catalog,pg_inherits\n",
      "tapdb,pg_catalog,pg_index\n",
      "tapdb,pg_catalog,pg_operator\n",
      "tapdb,pg_catalog,pg_opfamily\n",
      "tapdb,pg_catalog,pg_opclass\n",
      "tapdb,pg_catalog,pg_am\n",
      "tapdb,pg_catalog,pg_amop\n",
      "tapdb,pg_catalog,pg_amproc\n",
      "tapdb,pg_catalog,pg_language\n",
      "tapdb,pg_catalog,pg_largeobject_metadata\n",
      "tapdb,pg_catalog,pg_database\n",
      "tapdb,pg_catalog,pg_stats\n",
      "tapdb,pg_catalog,pg_stat_sys_indexes\n",
      "tapdb,pg_catalog,pg_stat_user_indexes\n",
      "tapdb,pg_catalog,pg_statio_all_indexes\n",
      "tapdb,information_schema,information_schema_catalog_name\n",
      "tapdb,information_schema,applicable_roles\n",
      "tapdb,pg_catalog,pg_rewrite\n",
      "tapdb,pg_catalog,pg_trigger\n",
      "tapdb,pg_catalog,pg_event_trigger\n",
      "tapdb,pg_catalog,pg_description\n",
      "tapdb,pg_catalog,pg_cast\n",
      "tapdb,pg_catalog,pg_enum\n",
      "tapdb,pg_catalog,pg_namespace\n",
      "tapdb,pg_catalog,pg_conversion\n",
      "tapdb,pg_catalog,pg_depend\n",
      "tapdb,pg_catalog,pg_db_role_setting\n",
      "tapdb,pg_catalog,pg_tablespace\n",
      "tapdb,pg_catalog,pg_pltemplate\n",
      "tapdb,pg_catalog,pg_auth_members\n",
      "tapdb,pg_catalog,pg_shdepend\n",
      "tapdb,pg_catalog,pg_shdescription\n",
      "tapdb,pg_catalog,pg_ts_config\n",
      "tapdb,pg_catalog,pg_ts_config_map\n",
      "tapdb,pg_catalog,pg_ts_dict\n",
      "tapdb,pg_catalog,pg_ts_parser\n",
      "tapdb,pg_catalog,pg_ts_template\n",
      "tapdb,pg_catalog,pg_extension\n",
      "tapdb,pg_catalog,pg_foreign_data_wrapper\n",
      "tapdb,pg_catalog,pg_foreign_server\n",
      "tapdb,pg_catalog,pg_foreign_table\n",
      "tapdb,pg_catalog,pg_default_acl\n",
      "tapdb,pg_catalog,pg_seclabel\n",
      "tapdb,pg_catalog,pg_shseclabel\n",
      "tapdb,pg_catalog,pg_range\n",
      "tapdb,pg_catalog,pg_largeobject\n",
      "tapdb,information_schema,administrable_role_authorizations\n",
      "tapdb,information_schema,attributes\n",
      "tapdb,information_schema,character_sets\n",
      "tapdb,information_schema,check_constraint_routine_usage\n",
      "tapdb,information_schema,check_constraints\n",
      "tapdb,information_schema,collations\n",
      "tapdb,information_schema,collation_character_set_applicability\n",
      "tapdb,information_schema,column_domain_usage\n",
      "tapdb,information_schema,column_privileges\n",
      "tapdb,information_schema,column_udt_usage\n",
      "tapdb,information_schema,columns\n",
      "tapdb,information_schema,constraint_column_usage\n",
      "tapdb,information_schema,constraint_table_usage\n",
      "tapdb,information_schema,domain_constraints\n",
      "tapdb,information_schema,domain_udt_usage\n",
      "tapdb,information_schema,domains\n",
      "tapdb,information_schema,enabled_roles\n",
      "tapdb,information_schema,key_column_usage\n",
      "tapdb,information_schema,parameters\n",
      "tapdb,information_schema,referential_constraints\n",
      "tapdb,information_schema,role_column_grants\n",
      "tapdb,information_schema,routine_privileges\n",
      "tapdb,information_schema,role_routine_grants\n",
      "tapdb,information_schema,routines\n",
      "tapdb,information_schema,schemata\n",
      "tapdb,information_schema,sequences\n",
      "tapdb,smash_dr1,field\n",
      "tapdb,information_schema,sql_implementation_info\n",
      "tapdb,information_schema,sql_languages\n",
      "tapdb,information_schema,sql_packages\n",
      "tapdb,public,size_distrib\n",
      "tapdb,information_schema,table_constraints\n",
      "tapdb,information_schema,table_privileges\n",
      "tapdb,information_schema,role_table_grants\n",
      "tapdb,information_schema,tables\n",
      "tapdb,information_schema,triggered_update_columns\n",
      "tapdb,information_schema,triggers\n",
      "tapdb,information_schema,udt_privileges\n",
      "tapdb,information_schema,role_udt_grants\n",
      "tapdb,information_schema,usage_privileges\n",
      "tapdb,information_schema,role_usage_grants\n",
      "tapdb,information_schema,user_defined_types\n",
      "tapdb,information_schema,view_column_usage\n",
      "tapdb,information_schema,view_routine_usage\n",
      "tapdb,information_schema,view_table_usage\n",
      "tapdb,information_schema,views\n",
      "tapdb,information_schema,data_type_privileges\n",
      "tapdb,information_schema,element_types\n",
      "tapdb,information_schema,_pg_foreign_table_columns\n",
      "tapdb,information_schema,column_options\n",
      "tapdb,information_schema,_pg_foreign_data_wrappers\n",
      "tapdb,information_schema,foreign_data_wrapper_options\n",
      "tapdb,information_schema,foreign_data_wrappers\n",
      "tapdb,information_schema,_pg_foreign_servers\n",
      "tapdb,information_schema,foreign_server_options\n",
      "tapdb,information_schema,foreign_servers\n",
      "tapdb,information_schema,_pg_foreign_tables\n",
      "tapdb,information_schema,foreign_table_options\n",
      "tapdb,information_schema,foreign_tables\n",
      "tapdb,information_schema,_pg_user_mappings\n",
      "tapdb,information_schema,user_mapping_options\n",
      "tapdb,information_schema,sql_sizing\n",
      "tapdb,information_schema,sql_sizing_profiles\n",
      "tapdb,sdss_dr13,wisematch_star\n",
      "tapdb,information_schema,user_mappings\n",
      "tapdb,pg_catalog,pg_attrdef\n",
      "tapdb,pg_catalog,pg_aggregate\n",
      "tapdb,sdss_dr13,photoposplate\n",
      "tapdb,des_sva1,redmapper_pub_catalog\n",
      "tapdb,des_sva1,redmapper_pub_randoms\n",
      "tapdb,des_sva1,redmapper_pub_members\n",
      "tapdb,information_schema,sql_features\n",
      "tapdb,pg_catalog,pg_collation\n",
      "tapdb,information_schema,sql_parts\n",
      "tapdb,ls_dr3,bricks\n",
      "tapdb,des_sva1,gold_annz2_pdf\n",
      "tapdb,des_sva1,gold_annz2_point\n",
      "tapdb,usno,b1\n",
      "tapdb,sdss_dr13,wisematch_gal\n",
      "tapdb,usno,a2\n",
      "tapdb,smash_dr1,stars\n",
      "tapdb,smash_dr1,galaxies\n",
      "tapdb,ls_dr3,depth\n",
      "tapdb,ls_dr3,depth_summary\n",
      "tapdb,ls_dr3,dr3_dr12q\n",
      "tapdb,neo_dr1,movexp\n",
      "tapdb,des_sva1,gold_bpz_pdf\n",
      "tapdb,neo_dr1,movgrp\n",
      "tapdb,sdss_dr13,calibobj_star\n",
      "tapdb,sdss_dr13,emissionlinesport_dr12\n",
      "tapdb,neo_dr1,movmpc\n",
      "tapdb,neo_dr1,movobs\n",
      "tapdb,smash_dr1,chip\n",
      "tapdb,smash_dr1,exposure\n",
      "tapdb,smash_dr1,xmatch\n",
      "tapdb,des_sva1,gold_bpz_point\n",
      "tapdb,des_sva1,gold_im3shape\n",
      "tapdb,ls_dr3,dr3_specobj_dr13\n",
      "tapdb,ls_dr3,dr3_superset_dr12q\n",
      "tapdb,des_sva1,gold_ngmix\n",
      "tapdb,des_sva1,gold_skynet_pdf\n",
      "tapdb,mydb,test2_csv_1008\n",
      "tapdb,des_sva1,gold_catalog\n",
      "tapdb,des_sva1,redmagic_faint\n",
      "tapdb,des_sva1,redmapper_exp_catalog\n",
      "tapdb,des_sva1,redmapper_exp_members\n",
      "tapdb,mydb,usno_b1_test5\n",
      "tapdb,des_sva1,redmapper_exp_area\n",
      "tapdb,des_sva1,redmapper_exp_randoms\n",
      "tapdb,des_sva1,redmapper_exp_zmask\n",
      "tapdb,des_sva1,redmapper_pub_area\n",
      "tapdb,des_sva1,redmapper_pub_zmask\n",
      "tapdb,sdss_dr13,specobj\n",
      "tapdb,sdss_dr13,calibobj_gal\n",
      "tapdb,ls_dr3,bricks_dr3\n",
      "tapdb,ls_dr3,ccds_annotated\n",
      "tapdb,gaia_dr1,phot_variable_time_series_gfov\n",
      "tapdb,ivoa,siav2\n",
      "tapdb,gaia_dr1,phot_variable_time_series_gfov_statistical_parameters\n",
      "tapdb,ivoa,obscore\n",
      "tapdb,gaia_dr1,cepheid\n",
      "tapdb,gaia_dr1,rrlyrae\n",
      "tapdb,gaia_dr1,variable_summary\n",
      "tapdb,mydb,test3_csv_1008\n",
      "tapdb,ls_dr3,dr3_dr7q\n",
      "tapdb,ls_dr3,survey_ccds\n",
      "tapdb,ls_dr3,wise\n",
      "tapdb,gaia_dr1,gaia_source\n",
      "tapdb,gaia_dr1,tgas_source\n",
      "tapdb,neo_dr1,movds\n",
      "tapdb,ivoa,exposure\n",
      "tapdb,ls_dr3,apflux\n",
      "tapdb,tap_schema,keys\n",
      "tapdb,tap_schema,schemas\n",
      "tapdb,ls_dr3,tractor\n",
      "tapdb,ls_dr3,tractor_primary\n",
      "tapdb,des_sva1,redmagic_bright\n",
      "tapdb,ls_dr3,galaxy\n",
      "tapdb,ls_dr3,star\n",
      "tapdb,des_sva1,gold_wlinfo\n",
      "tapdb,ls_dr3,tractor_secondary\n",
      "tapdb,tap_schema,tables\n",
      "tapdb,ls_dr3,neighbors\n",
      "tapdb,smash_dr1,object\n",
      "tapdb,des_sva1,gold_skynet_point\n",
      "tapdb,des_sva1,gold_tpz_pdf\n",
      "tapdb,des_sva1,gold_tpz_point\n",
      "tapdb,tap_schema,columns\n",
      "tapdb,tap_schema,key_columns\n",
      "tapdb,sdss_dr13,galspecline_dr8\n",
      "tapdb,ivoa,siav1\n",
      "\n"
     ]
    }
   ],
   "source": [
    "sql = 'select table_catalog, table_schema, table_name from information_schema.tables'\n",
    "try:\n",
    "    default = queryClient.query(token, sql=sql)\n",
    "except Exception, e:\n",
    "    print e.message\n",
    "else:\n",
    "    print default"
   ]
  },
  {
   "cell_type": "markdown",
   "metadata": {
    "deletable": true,
    "editable": true
   },
   "source": [
    "And now we'll run the same query against the '*zeus1*' profile:"
   ]
  },
  {
   "cell_type": "code",
   "execution_count": 48,
   "metadata": {
    "collapsed": false,
    "deletable": true,
    "editable": true
   },
   "outputs": [
    {
     "name": "stdout",
     "output_type": "stream",
     "text": [
      "table_catalog,table_schema,table_name\n",
      "tapdb,pg_catalog,pg_statistic\n",
      "tapdb,pg_catalog,pg_type\n",
      "tapdb,mydb,mags_0\n",
      "tapdb,mydb,mags_1005\n",
      "tapdb,stripe82,var_lc\n",
      "tapdb,pg_catalog,pg_roles\n",
      "tapdb,pg_catalog,pg_shadow\n",
      "tapdb,pg_catalog,pg_authid\n",
      "tapdb,pg_catalog,pg_group\n",
      "tapdb,pg_catalog,pg_user\n",
      "tapdb,pg_catalog,pg_rules\n",
      "tapdb,pg_catalog,pg_views\n",
      "tapdb,pg_catalog,pg_tables\n",
      "tapdb,pg_catalog,pg_matviews\n",
      "tapdb,pg_catalog,pg_indexes\n",
      "tapdb,pg_catalog,pg_locks\n",
      "tapdb,pg_catalog,pg_settings\n",
      "tapdb,pg_catalog,pg_cursors\n",
      "tapdb,pg_catalog,pg_available_extensions\n",
      "tapdb,pg_catalog,pg_available_extension_versions\n",
      "tapdb,pg_catalog,pg_prepared_xacts\n",
      "tapdb,pg_catalog,pg_prepared_statements\n",
      "tapdb,pg_catalog,pg_seclabels\n",
      "tapdb,pg_catalog,pg_timezone_abbrevs\n",
      "tapdb,pg_catalog,pg_timezone_names\n",
      "tapdb,pg_catalog,pg_stat_all_tables\n",
      "tapdb,pg_catalog,pg_stat_xact_all_tables\n",
      "tapdb,pg_catalog,pg_stat_sys_tables\n",
      "tapdb,pg_catalog,pg_stat_xact_sys_tables\n",
      "tapdb,pg_catalog,pg_stat_user_tables\n",
      "tapdb,pg_catalog,pg_stat_xact_user_tables\n",
      "tapdb,pg_catalog,pg_statio_all_tables\n",
      "tapdb,pg_catalog,pg_statio_sys_tables\n",
      "tapdb,pg_catalog,pg_statio_user_tables\n",
      "tapdb,pg_catalog,pg_stat_all_indexes\n",
      "tapdb,pg_catalog,pg_attribute\n",
      "tapdb,pg_catalog,pg_proc\n",
      "tapdb,pg_catalog,pg_statio_sys_indexes\n",
      "tapdb,pg_catalog,pg_statio_user_indexes\n",
      "tapdb,pg_catalog,pg_class\n",
      "tapdb,pg_catalog,pg_statio_all_sequences\n",
      "tapdb,pg_catalog,pg_statio_sys_sequences\n",
      "tapdb,pg_catalog,pg_statio_user_sequences\n",
      "tapdb,pg_catalog,pg_stat_activity\n",
      "tapdb,pg_catalog,pg_stat_replication\n",
      "tapdb,pg_catalog,pg_stat_database\n",
      "tapdb,pg_catalog,pg_stat_database_conflicts\n",
      "tapdb,pg_catalog,pg_stat_user_functions\n",
      "tapdb,pg_catalog,pg_stat_xact_user_functions\n",
      "tapdb,pg_catalog,pg_stat_bgwriter\n",
      "tapdb,pg_catalog,pg_user_mappings\n",
      "tapdb,pg_catalog,pg_user_mapping\n",
      "tapdb,pg_catalog,pg_constraint\n",
      "tapdb,pg_catalog,pg_inherits\n",
      "tapdb,pg_catalog,pg_index\n",
      "tapdb,pg_catalog,pg_operator\n",
      "tapdb,pg_catalog,pg_opfamily\n",
      "tapdb,pg_catalog,pg_opclass\n",
      "tapdb,pg_catalog,pg_am\n",
      "tapdb,pg_catalog,pg_amop\n",
      "tapdb,pg_catalog,pg_amproc\n",
      "tapdb,pg_catalog,pg_language\n",
      "tapdb,pg_catalog,pg_largeobject_metadata\n",
      "tapdb,pg_catalog,pg_database\n",
      "tapdb,pg_catalog,pg_stats\n",
      "tapdb,pg_catalog,pg_stat_sys_indexes\n",
      "tapdb,pg_catalog,pg_stat_user_indexes\n",
      "tapdb,pg_catalog,pg_statio_all_indexes\n",
      "tapdb,information_schema,information_schema_catalog_name\n",
      "tapdb,information_schema,applicable_roles\n",
      "tapdb,pg_catalog,pg_rewrite\n",
      "tapdb,pg_catalog,pg_trigger\n",
      "tapdb,pg_catalog,pg_event_trigger\n",
      "tapdb,pg_catalog,pg_description\n",
      "tapdb,pg_catalog,pg_cast\n",
      "tapdb,pg_catalog,pg_enum\n",
      "tapdb,pg_catalog,pg_namespace\n",
      "tapdb,pg_catalog,pg_conversion\n",
      "tapdb,pg_catalog,pg_depend\n",
      "tapdb,pg_catalog,pg_db_role_setting\n",
      "tapdb,pg_catalog,pg_tablespace\n",
      "tapdb,pg_catalog,pg_pltemplate\n",
      "tapdb,pg_catalog,pg_auth_members\n",
      "tapdb,pg_catalog,pg_shdepend\n",
      "tapdb,pg_catalog,pg_shdescription\n",
      "tapdb,pg_catalog,pg_ts_config\n",
      "tapdb,pg_catalog,pg_ts_config_map\n",
      "tapdb,pg_catalog,pg_ts_dict\n",
      "tapdb,pg_catalog,pg_ts_parser\n",
      "tapdb,pg_catalog,pg_ts_template\n",
      "tapdb,pg_catalog,pg_extension\n",
      "tapdb,pg_catalog,pg_foreign_data_wrapper\n",
      "tapdb,pg_catalog,pg_foreign_server\n",
      "tapdb,pg_catalog,pg_foreign_table\n",
      "tapdb,pg_catalog,pg_default_acl\n",
      "tapdb,pg_catalog,pg_seclabel\n",
      "tapdb,pg_catalog,pg_shseclabel\n",
      "tapdb,pg_catalog,pg_range\n",
      "tapdb,pg_catalog,pg_largeobject\n",
      "tapdb,information_schema,administrable_role_authorizations\n",
      "tapdb,information_schema,attributes\n",
      "tapdb,information_schema,character_sets\n",
      "tapdb,information_schema,check_constraint_routine_usage\n",
      "tapdb,information_schema,check_constraints\n",
      "tapdb,information_schema,collations\n",
      "tapdb,information_schema,collation_character_set_applicability\n",
      "tapdb,information_schema,column_domain_usage\n",
      "tapdb,information_schema,column_privileges\n",
      "tapdb,information_schema,column_udt_usage\n",
      "tapdb,information_schema,columns\n",
      "tapdb,information_schema,constraint_column_usage\n",
      "tapdb,information_schema,constraint_table_usage\n",
      "tapdb,information_schema,domain_constraints\n",
      "tapdb,information_schema,domain_udt_usage\n",
      "tapdb,information_schema,domains\n",
      "tapdb,information_schema,enabled_roles\n",
      "tapdb,information_schema,key_column_usage\n",
      "tapdb,information_schema,parameters\n",
      "tapdb,information_schema,referential_constraints\n",
      "tapdb,information_schema,role_column_grants\n",
      "tapdb,information_schema,routine_privileges\n",
      "tapdb,information_schema,role_routine_grants\n",
      "tapdb,information_schema,routines\n",
      "tapdb,information_schema,schemata\n",
      "tapdb,information_schema,sequences\n",
      "tapdb,usno,a2\n",
      "tapdb,information_schema,sql_implementation_info\n",
      "tapdb,information_schema,sql_languages\n",
      "tapdb,information_schema,sql_packages\n",
      "tapdb,usno,b1\n",
      "tapdb,information_schema,table_constraints\n",
      "tapdb,information_schema,table_privileges\n",
      "tapdb,information_schema,role_table_grants\n",
      "tapdb,information_schema,tables\n",
      "tapdb,information_schema,triggered_update_columns\n",
      "tapdb,information_schema,triggers\n",
      "tapdb,information_schema,udt_privileges\n",
      "tapdb,information_schema,role_udt_grants\n",
      "tapdb,information_schema,usage_privileges\n",
      "tapdb,information_schema,role_usage_grants\n",
      "tapdb,information_schema,user_defined_types\n",
      "tapdb,information_schema,view_column_usage\n",
      "tapdb,information_schema,view_routine_usage\n",
      "tapdb,information_schema,view_table_usage\n",
      "tapdb,information_schema,views\n",
      "tapdb,information_schema,data_type_privileges\n",
      "tapdb,information_schema,element_types\n",
      "tapdb,information_schema,_pg_foreign_table_columns\n",
      "tapdb,information_schema,column_options\n",
      "tapdb,information_schema,_pg_foreign_data_wrappers\n",
      "tapdb,information_schema,foreign_data_wrapper_options\n",
      "tapdb,information_schema,foreign_data_wrappers\n",
      "tapdb,information_schema,_pg_foreign_servers\n",
      "tapdb,information_schema,foreign_server_options\n",
      "tapdb,information_schema,foreign_servers\n",
      "tapdb,information_schema,_pg_foreign_tables\n",
      "tapdb,information_schema,foreign_table_options\n",
      "tapdb,information_schema,foreign_tables\n",
      "tapdb,information_schema,_pg_user_mappings\n",
      "tapdb,information_schema,user_mapping_options\n",
      "tapdb,information_schema,sql_sizing\n",
      "tapdb,information_schema,sql_sizing_profiles\n",
      "tapdb,information_schema,user_mappings\n",
      "tapdb,pg_catalog,pg_attrdef\n",
      "tapdb,pg_catalog,pg_aggregate\n",
      "tapdb,bulge,lcstat\n",
      "tapdb,information_schema,sql_features\n",
      "tapdb,pg_catalog,pg_collation\n",
      "tapdb,information_schema,sql_parts\n",
      "tapdb,tap_schema,tables\n",
      "tapdb,tap_schema,schemas\n",
      "tapdb,tap_schema,key_columns\n",
      "tapdb,tap_schema,keys\n",
      "tapdb,tap_schema,columns\n",
      "tapdb,sdss_dr12,plates\n",
      "tapdb,dwarfs,exposure\n",
      "tapdb,smash,source\n",
      "tapdb,smash,chip\n",
      "tapdb,smash,object\n",
      "tapdb,des_sva1,gold_annz2_pdf\n",
      "tapdb,des_sva1,gold_annz2_point\n",
      "tapdb,des_sva1,gold_bpz_pdf\n",
      "tapdb,des_sva1,gold_bpz_point\n",
      "tapdb,des_sva1,gold_catalog\n",
      "tapdb,des_sva1,gold_im3shape\n",
      "tapdb,des_sva1,gold_ngmix\n",
      "tapdb,des_sva1,gold_skynet_pdf\n",
      "tapdb,des_sva1,gold_skynet_point\n",
      "tapdb,des_sva1,gold_tpz_pdf\n",
      "tapdb,des_sva1,gold_tpz_point\n",
      "tapdb,des_sva1,gold_wlinfo\n",
      "tapdb,des_sva1,redmagic_bright\n",
      "tapdb,des_sva1,redmagic_faint\n",
      "tapdb,des_sva1,redmapper_exp_area\n",
      "tapdb,des_sva1,redmapper_exp_catalog\n",
      "tapdb,des_sva1,redmapper_exp_members\n",
      "tapdb,des_sva1,redmapper_exp_randoms\n",
      "tapdb,des_sva1,redmapper_exp_zmask\n",
      "tapdb,des_sva1,redmapper_pub_area\n",
      "tapdb,des_sva1,redmapper_pub_catalog\n",
      "tapdb,des_sva1,redmapper_pub_members\n",
      "tapdb,des_sva1,redmapper_pub_randoms\n",
      "tapdb,des_sva1,redmapper_pub_zmask\n",
      "tapdb,ivoa,exposure\n",
      "tapdb,ivoa,obscore\n",
      "tapdb,ivoa,siav2\n",
      "tapdb,ivoa,siav1\n",
      "tapdb,smash,field\n",
      "tapdb,mydb,test1\n",
      "tapdb,ivoa,siav1_nike\n",
      "tapdb,ivoa,siav1_images\n",
      "tapdb,bulge,exposures\n",
      "tapdb,bulge,avgmag\n",
      "tapdb,mydb,siaout\n",
      "tapdb,bulge,indmag\n",
      "tapdb,sne,lcstat\n",
      "tapdb,stripe82,stdcat\n",
      "tapdb,sne,diffavg\n",
      "tapdb,sne,photmag\n",
      "tapdb,sne,diffmag\n",
      "tapdb,sne,photavg\n",
      "tapdb,sne,fields\n",
      "tapdb,stripe82,varcat\n",
      "tapdb,sne,exposure\n",
      "tapdb,smash,exposure\n",
      "tapdb,smash,xmatch\n",
      "tapdb,sdss_dr12,specobj\n",
      "tapdb,dwarfs,fields\n",
      "tapdb,dwarfs,photmag\n",
      "tapdb,dwarfs,photavg\n",
      "tapdb,dwarfs,diffavg\n",
      "tapdb,stripe82,snestds\n",
      "tapdb,dwarfs,diffmag\n",
      "tapdb,stripe82,snevars\n",
      "\n"
     ]
    }
   ],
   "source": [
    "queryClient.set_profile('zeus1')\n",
    "zeus1 = queryClient.query(token, sql=sql)\n",
    "print zeus1"
   ]
  },
  {
   "cell_type": "markdown",
   "metadata": {
    "deletable": true,
    "editable": true
   },
   "source": [
    "Comparing the two outputs, we can see that there are differences in which tables are available."
   ]
  },
  {
   "cell_type": "markdown",
   "metadata": {
    "deletable": true,
    "editable": true
   },
   "source": [
    "### Using the datalab command\n",
    "\n",
    "The <i>datalab</i> command provides an alternate command line way to work with the query manager through the <i>query</i> subcommands.\n",
    "\n",
    "#### Initialization\n",
    "We need to be logged into the Data Lab to use the query manager."
   ]
  },
  {
   "cell_type": "code",
   "execution_count": null,
   "metadata": {
    "collapsed": true,
    "deletable": true,
    "editable": true
   },
   "outputs": [],
   "source": [
    "!datalab login --user=dldemo --password=dldemo"
   ]
  },
  {
   "cell_type": "markdown",
   "metadata": {
    "deletable": true,
    "editable": true
   },
   "source": [
    "#### A quick query\n",
    "\n",
    "Again we will return the magnitudes of the top 100 objects in the SMASH data set and get it back as a CSV file:"
   ]
  },
  {
   "cell_type": "code",
   "execution_count": null,
   "metadata": {
    "collapsed": true,
    "deletable": true,
    "editable": true
   },
   "outputs": [],
   "source": [
    "!datalab query --ofmt='csv' \\\n",
    "  --adql='select id, gmag, rmag, imag from smash.avgmag limit 100'"
   ]
  },
  {
   "cell_type": "markdown",
   "metadata": {
    "deletable": true,
    "editable": true
   },
   "source": [
    "#### Saving results to virtual storage\n",
    "\n",
    "Now we'll save the results to our virtual storage:"
   ]
  },
  {
   "cell_type": "code",
   "execution_count": 1,
   "metadata": {
    "collapsed": false,
    "deletable": true,
    "editable": true
   },
   "outputs": [
    {
     "name": "stdout",
     "output_type": "stream",
     "text": [
      "/bin/sh: datalab: command not found\r\n"
     ]
    }
   ],
   "source": [
    "!datalab query --out='vos://mags.csv' --ofmt='csv' \\\n",
    "    --adql='select id, gmag, rmag, imag from smash.avgmag limit 100'"
   ]
  },
  {
   "cell_type": "markdown",
   "metadata": {
    "deletable": true,
    "editable": true
   },
   "source": [
    "#### Saving results to remote database\n",
    "\n",
    "And to our remote database:"
   ]
  },
  {
   "cell_type": "code",
   "execution_count": 2,
   "metadata": {
    "collapsed": false,
    "deletable": true,
    "editable": true
   },
   "outputs": [
    {
     "name": "stdout",
     "output_type": "stream",
     "text": [
      "/bin/sh: datalab: command not found\r\n"
     ]
    }
   ],
   "source": [
    "!datalab query --out='mydb://mags' --ofmt='csv' \\\n",
    "    --adql='select id, gmag, rmag, imag from smash.avgmag limit 100' "
   ]
  },
  {
   "cell_type": "markdown",
   "metadata": {
    "deletable": true,
    "editable": true
   },
   "source": [
    "#### An asynchronous query\n",
    "\n",
    "Alternatively, we'll run the longer asynchronous query:"
   ]
  },
  {
   "cell_type": "code",
   "execution_count": null,
   "metadata": {
    "collapsed": true,
    "deletable": true,
    "editable": true
   },
   "outputs": [],
   "source": [
    "!datalab query --adql='select count(*) from usno.b1' --async=True"
   ]
  },
  {
   "cell_type": "markdown",
   "metadata": {
    "deletable": true,
    "editable": true
   },
   "source": []
  }
 ],
 "metadata": {
  "anaconda-cloud": {},
  "kernelspec": {
   "display_name": "Python 2",
   "language": "python",
   "name": "python2"
  },
  "language_info": {
   "codemirror_mode": {
    "name": "ipython",
    "version": 2
   },
   "file_extension": ".py",
   "mimetype": "text/x-python",
   "name": "python",
   "nbconvert_exporter": "python",
   "pygments_lexer": "ipython2",
   "version": "2.7.13"
  }
 },
 "nbformat": 4,
 "nbformat_minor": 0
}
