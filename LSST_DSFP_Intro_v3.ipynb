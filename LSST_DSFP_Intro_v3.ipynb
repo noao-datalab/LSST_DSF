{
 "cells": [
  {
   "cell_type": "markdown",
   "metadata": {
    "deletable": true,
    "editable": true,
    "nbpresent": {
     "id": "58e1eb54-9284-4f17-8722-b348149496ac"
    },
    "slideshow": {
     "slide_type": "slide"
    }
   },
   "source": [
    "# The NOAO Data Lab (http://datalab.noao.edu)\n",
    "*Knut Olsen, Mike Fitzpatrick, Matthew Graham, Wendy Huang, Stéphanie Juneau, David Nidever, Robert Nikutta, Pat Norris, Steve Ridgway, and Pete Wargo*\n",
    "\n",
    "\n",
    "NOAO's wide field telescopes are steadily producing large imaging datasets, with large spectroscopic datasets coming.  As of today, there are ~400 TB of pixel data from DECam and the Mosaic[1,1.1,2,3] cameras, with several TB of catalog data from a subset of those pixels. \n",
    "\n",
    "The movie below shows the buildup of science imaging data through February 2017.\n",
    "\n",
    "<video width=\"800\" height=\"400\" controls source src=\"feb17Movie720.mp4\" type=\"video/mp4\"></video>"
   ]
  },
  {
   "cell_type": "markdown",
   "metadata": {
    "deletable": true,
    "editable": true,
    "nbpresent": {
     "id": "fc253aa2-227d-4278-89c9-d0d269cdf12a"
    },
    "slideshow": {
     "slide_type": "slide"
    }
   },
   "source": [
    "The primary DECam-based catalogs currently available in our database come from the DECaLS and SMASH surveys, whose coverage and density is shown in the map below.  Combined, they contain ~900 million objects.  Our database also contains a number of external catalogs that might be of interest; see below for a list.\n",
    "\n",
    "<img width=\"800\" height=\"400\" src=\"smash_decals.png\"></img>"
   ]
  },
  {
   "cell_type": "markdown",
   "metadata": {
    "deletable": true,
    "editable": true,
    "nbpresent": {
     "id": "ebb19cc2-6c39-4650-8b41-70b19a0e5474"
    },
    "slideshow": {
     "slide_type": "slide"
    }
   },
   "source": [
    "One of our Data Scientists (David Nidever) is leading an effort to generate all-sky catalogs from all of the images in our Archive.  Below is a map of the number density of objects in the first such catalog, derived from a pipeline built around SourceExtractor (Bertin & Arnouts 1996) and measuring all public DECam images in the Archive.  It contains 2.3 billion objects and a total of 19 billion measurements.  It's not publicly available yet, but is a preview of things to come.\n",
    "\n",
    "<img width=\"800\" height=\"400\" src=\"asc_map.png\"></img>"
   ]
  },
  {
   "cell_type": "markdown",
   "metadata": {
    "deletable": true,
    "editable": true,
    "nbpresent": {
     "id": "68b5c0a9-b3ba-4d39-97e3-b47d89fe24da"
    },
    "slideshow": {
     "slide_type": "slide"
    }
   },
   "source": [
    "## What the Data Lab will provide\n",
    "\n",
    "* Large Catalogs – Data Lab will serve TB-scale databases\n",
    "* Pixel Data – Data Lab will connect users to images and spectra in NOAO Science Archive\n",
    "* Virtual Storage – Minimizes data transfer\n",
    "* Visualization – Data Lab will enable data exploration\n",
    "* Compute Processing – Data Lab will allow workflows to run close to the data\n",
    "* Additional features – Access to published datasets and external data services, data publication, exportable workflows, distributable software"
   ]
  },
  {
   "cell_type": "markdown",
   "metadata": {
    "deletable": true,
    "editable": true,
    "nbpresent": {
     "id": "6ebcb5c8-8c45-4041-8e8c-4983f73d4f3b"
    },
    "slideshow": {
     "slide_type": "slide"
    }
   },
   "source": [
    "## What can you do now?\n",
    "\n",
    "The public release of the NOAO Data Lab is scheduled for June 2017.  Some of the key features will not be fully available until then.  However, there are several things you can do now:\n",
    "\n",
    "* Create a (temporary) user account.  For the purposes of this presentation, user accounts have been created for you.  The usernames are demo01...demo50.  Note that these will be cleaned out prior to our June public release, when you will be able to create permanent accounts.  You'll use the [AuthManager](https://github.com/noao-datalab/LSST_DSF/blob/master/How_to_use_the_Data_Lab_AuthManager.ipynb) module in your notebooks to interact with your account.\n",
    "* Use our prototype [Data Discovery tool](http://datalab.noao.edu/discover.php) to see the context of our image data holdings, and to identify areas of interest; a catalog exploration tool is under development\n",
    "* Access several catalogs (SMASH DR1, DECaLS DR3, select tables from SDSS DR13, GAIA DR1, DES SVA1, the Allen NEO catalog, and USNO-A2/B) through our [TAP service](http://datalab.noao.edu/tutdev/query.php)\n",
    "* Use the Query Manager to query this catalog data from within Python [QueryManager HowTo](https://github.com/noao-datalab/LSST_DSF/blob/master/How_to_use_the_Data_Lab_QueryManager.ipynb)\n",
    "* Use our Simple Image Access service to get image cutouts from the NOAO Archive ([Robert's notebook](https://github.com/noao-datalab/LSST_DSF/blob/master/HydraII_and_RRLyrae.ipynb))\n",
    "* Store the results of queries or image searches on our virtual storage system [StorageManager HowTo](https://github.com/noao-datalab/LSST_DSF/blob/master/How_to_use_the_Data_Lab_StorageManager.ipynb)\n",
    "* Access the [SMASH DR1 release page](http://datalab.noao.edu/smash/smash.php)\n",
    "* Get information about the DESI Targeting Surveys at our [Legacy Survey landing page](http://datalab.noao.edu/decals/ls.php)"
   ]
  },
  {
   "cell_type": "markdown",
   "metadata": {
    "slideshow": {
     "slide_type": "slide"
    }
   },
   "source": [
    "## Hack ideas\n",
    "* Create catalog sky maps showing quantities other than object density, e.g. mean color\n",
    "    \n",
    "* Help us develop further Thomas Boch's prototype [Catalog Exploration Tool](http://dldb1.sdm.noao.edu/huang/explore/)! Add some different quantities to the plot, improve the visuals\n",
    "   "
   ]
  },
  {
   "cell_type": "markdown",
   "metadata": {
    "deletable": true,
    "editable": true,
    "nbpresent": {
     "id": "6a040e35-404c-448a-89e7-8e685945422b"
    },
    "slideshow": {
     "slide_type": "slide"
    }
   },
   "source": [
    " \n",
    "But remember the Ballmer peak\n",
    "<img width=\"400\" height=\"400\" src=\"https://imgs.xkcd.com/comics/ballmer_peak.png\"></img>"
   ]
  }
 ],
 "metadata": {
  "anaconda-cloud": {},
  "celltoolbar": "Slideshow",
  "kernelspec": {
   "display_name": "Python 2",
   "language": "python",
   "name": "python2"
  },
  "language_info": {
   "codemirror_mode": {
    "name": "ipython",
    "version": 2
   },
   "file_extension": ".py",
   "mimetype": "text/x-python",
   "name": "python",
   "nbconvert_exporter": "python",
   "pygments_lexer": "ipython2",
   "version": "2.7.13"
  },
  "nbpresent": {
   "slides": {
    "11629ed4-da55-422c-b64b-7d49a281f70f": {
     "id": "11629ed4-da55-422c-b64b-7d49a281f70f",
     "prev": "9db98163-1ed0-490d-9230-58203e4ef998",
     "regions": {
      "8fec7c2e-2499-4832-ae22-e0effa00e652": {
       "attrs": {
        "height": 0.8,
        "width": 0.8,
        "x": 0.1,
        "y": 0.1
       },
       "content": {
        "cell": "68b5c0a9-b3ba-4d39-97e3-b47d89fe24da",
        "part": "whole"
       },
       "id": "8fec7c2e-2499-4832-ae22-e0effa00e652"
      }
     }
    },
    "92acccad-4016-401e-89b0-f6ffba25d282": {
     "id": "92acccad-4016-401e-89b0-f6ffba25d282",
     "layout": "grid",
     "prev": null,
     "regions": {
      "07546d73-9a1e-452a-9dde-574f44562a9c": {
       "attrs": {
        "height": 0.8333333333333334,
        "pad": 0.01,
        "width": 0.8333333333333334,
        "x": 0.08333333333333333,
        "y": 0.08333333333333333
       },
       "content": {
        "cell": "58e1eb54-9284-4f17-8722-b348149496ac",
        "part": "whole"
       },
       "id": "07546d73-9a1e-452a-9dde-574f44562a9c"
      }
     }
    },
    "94b43e7e-7543-4050-b347-dabf5c5f6df9": {
     "id": "94b43e7e-7543-4050-b347-dabf5c5f6df9",
     "prev": "11629ed4-da55-422c-b64b-7d49a281f70f",
     "regions": {
      "0c722d88-2ad5-4521-96cd-2cabf8f27dd3": {
       "attrs": {
        "height": 0.4,
        "width": 0.8,
        "x": 0.1,
        "y": 0.5
       },
       "content": {
        "cell": "6a040e35-404c-448a-89e7-8e685945422b",
        "part": "whole"
       },
       "id": "0c722d88-2ad5-4521-96cd-2cabf8f27dd3"
      },
      "65e13c31-980a-4921-99a4-26b1d9131f5f": {
       "attrs": {
        "height": 0.8,
        "width": 0.8,
        "x": 0.1,
        "y": 0.1
       },
       "content": {
        "cell": "6ebcb5c8-8c45-4041-8e8c-4983f73d4f3b",
        "part": "whole"
       },
       "id": "65e13c31-980a-4921-99a4-26b1d9131f5f"
      }
     }
    },
    "9db98163-1ed0-490d-9230-58203e4ef998": {
     "id": "9db98163-1ed0-490d-9230-58203e4ef998",
     "prev": "f1831b8d-869e-4232-8319-76e0e01a8b4b",
     "regions": {
      "1557fde6-405b-44d7-a831-83d26f19993b": {
       "attrs": {
        "height": 0.8,
        "width": 0.8,
        "x": 0.1,
        "y": 0.1
       },
       "content": {
        "cell": "ebb19cc2-6c39-4650-8b41-70b19a0e5474",
        "part": "whole"
       },
       "id": "1557fde6-405b-44d7-a831-83d26f19993b"
      }
     }
    },
    "f1831b8d-869e-4232-8319-76e0e01a8b4b": {
     "id": "f1831b8d-869e-4232-8319-76e0e01a8b4b",
     "prev": "92acccad-4016-401e-89b0-f6ffba25d282",
     "regions": {
      "6acda0a1-70c2-44f0-8a63-59952133e21c": {
       "attrs": {
        "height": 0.8,
        "width": 0.8,
        "x": 0.1,
        "y": 0.1
       },
       "content": {
        "cell": "fc253aa2-227d-4278-89c9-d0d269cdf12a",
        "part": "whole"
       },
       "id": "6acda0a1-70c2-44f0-8a63-59952133e21c"
      }
     }
    }
   },
   "themes": {}
  }
 },
 "nbformat": 4,
 "nbformat_minor": 2
}
